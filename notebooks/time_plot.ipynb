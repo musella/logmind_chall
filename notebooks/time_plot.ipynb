{
 "cells": [
  {
   "cell_type": "code",
   "execution_count": 1,
   "metadata": {},
   "outputs": [],
   "source": [
    "from bokeh.plotting import figure, show, output_file#, output_notebook\n",
    "from bokeh.models import ColumnDataSource, HoverTool, CustomJSHover\n",
    "from bokeh.models.widgets import DataTable, DateFormatter, TableColumn\n",
    "from bokeh.layouts import column, row, gridplot\n"
   ]
  },
  {
   "cell_type": "code",
   "execution_count": 31,
   "metadata": {},
   "outputs": [],
   "source": [
    "import pickle\n",
    "\n",
    "with open(\"encoders.pkl\",\"rb\") as fin:\n",
    "    loaded_encoders = pickle.load(fin)\n",
    "\n",
    "dummy_cols = {}\n",
    "encoders = {}\n",
    "for key,val in loaded_encoders.items():\n",
    "    if type(val) == tuple:\n",
    "        val,key = val\n",
    "    encoders[key] = val\n",
    "    dummy_cols[key] = [key+\"_\"+str(cls) for cls in range(val.classes_.shape[0])]\n",
    "\n",
    "# print(dummy_cols)"
   ]
  },
  {
   "cell_type": "code",
   "execution_count": 19,
   "metadata": {},
   "outputs": [],
   "source": [
    "output_file(\"../docs/_includes/dashboard.html\")"
   ]
  },
  {
   "cell_type": "code",
   "execution_count": 20,
   "metadata": {},
   "outputs": [],
   "source": [
    "aggregated = pd.read_hdf(\"../input/hdfs-dataset/hdfs_aggregated.hd5\")\n",
    "aggregated += 1e-6"
   ]
  },
  {
   "cell_type": "code",
   "execution_count": 21,
   "metadata": {},
   "outputs": [],
   "source": [
    "test_pred = pd.read_hdf(\"../input/hdfs-dataset/test_pred.hd5\")\n",
    "\n",
    "def map_suspicions(val):\n",
    "    if type(val) != str:\n",
    "        return val\n",
    "    toks = val.split(\" \")\n",
    "    def get_label(tok):\n",
    "        col,num = tok.split(\"_\")\n",
    "        if col in [\"Component\",\"Level\"]:\n",
    "            return col+\" \"+encoders[col].classes_[int(num)]\n",
    "        return tok\n",
    "    return \";\".join([ get_label(tok) for tok in toks])\n",
    "        \n",
    "\n",
    "aggregated[\"score\"] = test_pred[\"score\"]\n",
    "aggregated[\"suspicions\"] = test_pred[\"suspicions\"].apply(map_suspicions)"
   ]
  },
  {
   "cell_type": "code",
   "execution_count": 22,
   "metadata": {},
   "outputs": [],
   "source": [
    "aggregated[\"score\"] = aggregated[\"score\"].fillna(0.)\n",
    "aggregated[\"suspicions\"] = aggregated[\"suspicions\"].fillna(\"\")"
   ]
  },
  {
   "cell_type": "code",
   "execution_count": 23,
   "metadata": {},
   "outputs": [],
   "source": [
    "aggregated[\"time\"] = aggregated.index.astype(str)"
   ]
  },
  {
   "cell_type": "code",
   "execution_count": 24,
   "metadata": {},
   "outputs": [],
   "source": [
    "from matplotlib.colors import to_hex\n",
    "tab10 = plt.get_cmap(\"tab10\").colors\n",
    "tab20 = plt.get_cmap(\"tab20b\").colors\n",
    "\n",
    "allcolors=list(map(to_hex,tab10+tab10+tab20+tab10))\n",
    "\n",
    "\n",
    "def mk_plot(source,columns,title,x_range=None,y_range=None,add_tooltips=False,\n",
    "            labels=None,add_susp=False):#\"box_select,lasso_select,help\"):\n",
    "\n",
    "    plot = figure(x_axis_type=\"datetime\", title=title, \n",
    "                plot_width=1200, plot_height=300,  y_axis_type=\"log\",\n",
    "                x_range=x_range, y_range=y_range)\n",
    "    \n",
    "    plot.xaxis.axis_label = 'Date'\n",
    "    plot.yaxis.axis_label = 'Event rate'\n",
    "\n",
    "    tooltips = []\n",
    "    for column,color in zip(columns,allcolors):\n",
    "        plot.line(\"index\",column,source=source,color=color,muted_alpha=0.,alpha=1.)\n",
    "        # custom_formatters[column] = HTMLTemplateFormatter(template='<span style=\"color:%s\"><%= value %></span>')\n",
    "        \n",
    "    def get_tooltip_key(col):\n",
    "        if \"_\" in col:\n",
    "            key = col.split(\"_\")[1]\n",
    "        else:\n",
    "            key = col\n",
    "        if labels is not None:\n",
    "            key = labels[int(key)] \n",
    "        return key\n",
    "    \n",
    "    def get_tooltip_fmt(column,color):\n",
    "        return '<span style=\"color:'+color+'\">@'+column+'{2e}</span>'\n",
    "\n",
    "    def add_tooltips(pfx,rng):\n",
    "        tooltip = []\n",
    "        key = []\n",
    "        for column,color in rng:\n",
    "            key.append( get_tooltip_key(column) )\n",
    "            tooltip.append(  get_tooltip_fmt(column,color)  ) #\"@\"+column+\"{2e}\"\n",
    "        tooltips.append( (\"%s [%s]\" % ( pfx, \",\".join(key) ), \",\".join(tooltip)) )\n",
    "    \n",
    "    \n",
    "    if add_tooltips:\n",
    "        pairs = list(zip(columns,allcolors))\n",
    "        pfx = columns[0].split(\"_\")[0]\n",
    "        if len(columns) < 10:\n",
    "            tooltips = [ (get_tooltip_key(column),get_tooltip_fmt(column,color)) for column,color in pairs]\n",
    "        else:\n",
    "            for icol in range(len(columns) // 5):\n",
    "                add_tooltips( pfx, pairs[icol*5:(icol+1)*5])\n",
    "            remind = len(columns) % 5    \n",
    "            if remind != 0:\n",
    "                add_tooltips( pfx, pairs[-remind:] )  \n",
    "        if add_susp:\n",
    "            tooltips.append( (\"anomalous rates\", \"@{suspicions}\") )\n",
    "        \n",
    "        hover = HoverTool(tooltips=[(\"time\",\"@time\")]+tooltips)#,formatters=custom_formatters)\n",
    "        hover.toggleable = True\n",
    "        plot.add_tools(hover)\n",
    "\n",
    "    return plot\n",
    "\n",
    "data = ColumnDataSource(aggregated)\n",
    "\n",
    "template_columns = dummy_cols[\"TemplateId\"]\n",
    "component_columns = dummy_cols[\"Component\"]\n",
    "level_columns = dummy_cols[\"Level\"]\n",
    "\n",
    "p_template = mk_plot(data,template_columns,\"Rate by event template\",\n",
    "                     y_range=(1,aggregated[[\"Level_0\",\"Level_1\"]].values.ravel().max()),add_tooltips=True,\n",
    "                     add_susp=True\n",
    "                    )\n",
    "\n",
    "p_component = mk_plot(data,component_columns,\"Rate by component\",\n",
    "                      x_range=p_template.x_range,y_range=p_template.y_range,add_tooltips=True,add_susp=True,\n",
    "                      labels=encoders[\"Component\"].classes_)\n",
    "\n",
    "p_level = mk_plot(data,level_columns,\"Rate by level\",\n",
    "                  x_range=p_template.x_range,y_range=p_template.y_range,add_tooltips=True,add_susp=True,labels=encoders[\"Level\"].classes_)\n",
    "\n",
    "p_score = mk_plot(data,[\"score\"],\"Anomaly score\",\n",
    "                  x_range=p_template.x_range,y_range=p_template.y_range,add_tooltips=True,add_susp=True)\n"
   ]
  },
  {
   "cell_type": "code",
   "execution_count": 25,
   "metadata": {},
   "outputs": [],
   "source": [
    "time_plots = gridplot([p_template,p_component,p_level,p_score],ncols=1)#,toolbar_options=dict(aractive_scroll = \"wheel_zoom\"))\n",
    "#show(plot)"
   ]
  },
  {
   "cell_type": "code",
   "execution_count": 26,
   "metadata": {},
   "outputs": [],
   "source": [
    "# help(CustomJSHover)"
   ]
  },
  {
   "cell_type": "code",
   "execution_count": 27,
   "metadata": {},
   "outputs": [],
   "source": [
    "templates = pd.read_hdf(\"../input/hdfs-dataset/hdfs_templates.hd5\")\n",
    "\n",
    "\n",
    "templates[\"color\"] = allcolors[:templates.shape[0]]"
   ]
  },
  {
   "cell_type": "code",
   "execution_count": 28,
   "metadata": {},
   "outputs": [],
   "source": [
    "from bokeh.models.widgets import DataTable, DateFormatter, TableColumn, HTMLTemplateFormatter\n",
    "\n",
    "templates_source = ColumnDataSource(templates)\n",
    "\n",
    "fmt='<p style=\"color:<%= value %>\">&#9608;</p>'\n",
    "\n",
    "formatter =  HTMLTemplateFormatter(template=fmt)\n",
    "\n",
    "\n",
    "columns = [\n",
    "        TableColumn(field=\"color\",title=\"\",width=3,formatter=formatter),\n",
    "        TableColumn(field=\"TemplateId\", title=\"TemplateId\",width=3),\n",
    "        TableColumn(field=\"EventTemplate\", title=\"Description\"),\n",
    "    ]\n",
    "\n",
    "data_table = DataTable(source=templates_source, columns=columns, width=400, height=280)"
   ]
  },
  {
   "cell_type": "code",
   "execution_count": 29,
   "metadata": {},
   "outputs": [],
   "source": [
    "plot = gridplot([time_plots,data_table],ncols=2,toolbar_location=None)"
   ]
  },
  {
   "cell_type": "code",
   "execution_count": 30,
   "metadata": {},
   "outputs": [],
   "source": [
    "show(plot)"
   ]
  },
  {
   "cell_type": "code",
   "execution_count": null,
   "metadata": {},
   "outputs": [],
   "source": []
  }
 ],
 "metadata": {
  "kernelspec": {
   "display_name": "Python 3",
   "language": "python",
   "name": "python3"
  },
  "language_info": {
   "codemirror_mode": {
    "name": "ipython",
    "version": 3
   },
   "file_extension": ".py",
   "mimetype": "text/x-python",
   "name": "python",
   "nbconvert_exporter": "python",
   "pygments_lexer": "ipython3",
   "version": "3.6.4"
  }
 },
 "nbformat": 4,
 "nbformat_minor": 2
}
