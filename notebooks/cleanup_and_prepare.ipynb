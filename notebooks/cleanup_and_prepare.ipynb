{
 "cells": [
  {
   "cell_type": "markdown",
   "metadata": {},
   "source": [
    "## Read data"
   ]
  },
  {
   "cell_type": "code",
   "execution_count": 16,
   "metadata": {},
   "outputs": [],
   "source": [
    "import pandas as pd"
   ]
  },
  {
   "cell_type": "code",
   "execution_count": 1,
   "metadata": {},
   "outputs": [],
   "source": [
    "templates = pd.read_csv(\"../input/hdfs-dataset/hdfs_templates.csv\")"
   ]
  },
  {
   "cell_type": "code",
   "execution_count": 2,
   "metadata": {},
   "outputs": [
    {
     "data": {
      "text/html": [
       "<div>\n",
       "<style scoped>\n",
       "    .dataframe tbody tr th:only-of-type {\n",
       "        vertical-align: middle;\n",
       "    }\n",
       "\n",
       "    .dataframe tbody tr th {\n",
       "        vertical-align: top;\n",
       "    }\n",
       "\n",
       "    .dataframe thead th {\n",
       "        text-align: right;\n",
       "    }\n",
       "</style>\n",
       "<table border=\"1\" class=\"dataframe\">\n",
       "  <thead>\n",
       "    <tr style=\"text-align: right;\">\n",
       "      <th></th>\n",
       "      <th>EventId</th>\n",
       "      <th>EventTemplate</th>\n",
       "      <th>Occurrences</th>\n",
       "    </tr>\n",
       "  </thead>\n",
       "  <tbody>\n",
       "    <tr>\n",
       "      <th>0</th>\n",
       "      <td>09a53393</td>\n",
       "      <td>Receiving block &lt;*&gt; src: &lt;*&gt; dest: &lt;*&gt;</td>\n",
       "      <td>1723232</td>\n",
       "    </tr>\n",
       "    <tr>\n",
       "      <th>1</th>\n",
       "      <td>3d91fa85</td>\n",
       "      <td>BLOCK* NameSystem.allocateBlock: &lt;*&gt; &lt;*&gt;</td>\n",
       "      <td>575061</td>\n",
       "    </tr>\n",
       "    <tr>\n",
       "      <th>2</th>\n",
       "      <td>d38aa58d</td>\n",
       "      <td>PacketResponder &lt;*&gt; for block &lt;*&gt; &lt;*&gt;</td>\n",
       "      <td>1706728</td>\n",
       "    </tr>\n",
       "    <tr>\n",
       "      <th>3</th>\n",
       "      <td>e3df2680</td>\n",
       "      <td>Received block &lt;*&gt; of size &lt;*&gt; from &lt;*&gt;</td>\n",
       "      <td>1706514</td>\n",
       "    </tr>\n",
       "    <tr>\n",
       "      <th>4</th>\n",
       "      <td>5d5de21c</td>\n",
       "      <td>BLOCK* NameSystem.addStoredBlock: blockMap upd...</td>\n",
       "      <td>1719741</td>\n",
       "    </tr>\n",
       "  </tbody>\n",
       "</table>\n",
       "</div>"
      ],
      "text/plain": [
       "    EventId                                      EventTemplate  Occurrences\n",
       "0  09a53393             Receiving block <*> src: <*> dest: <*>      1723232\n",
       "1  3d91fa85           BLOCK* NameSystem.allocateBlock: <*> <*>       575061\n",
       "2  d38aa58d              PacketResponder <*> for block <*> <*>      1706728\n",
       "3  e3df2680            Received block <*> of size <*> from <*>      1706514\n",
       "4  5d5de21c  BLOCK* NameSystem.addStoredBlock: blockMap upd...      1719741"
      ]
     },
     "execution_count": 2,
     "metadata": {},
     "output_type": "execute_result"
    }
   ],
   "source": [
    "templates.head()"
   ]
  },
  {
   "cell_type": "code",
   "execution_count": 3,
   "metadata": {},
   "outputs": [],
   "source": [
    "df = pd.read_csv(\"../input/hdfs-dataset/hdfs_structured.csv\")"
   ]
  },
  {
   "cell_type": "code",
   "execution_count": 4,
   "metadata": {},
   "outputs": [
    {
     "data": {
      "text/html": [
       "<div>\n",
       "<style scoped>\n",
       "    .dataframe tbody tr th:only-of-type {\n",
       "        vertical-align: middle;\n",
       "    }\n",
       "\n",
       "    .dataframe tbody tr th {\n",
       "        vertical-align: top;\n",
       "    }\n",
       "\n",
       "    .dataframe thead th {\n",
       "        text-align: right;\n",
       "    }\n",
       "</style>\n",
       "<table border=\"1\" class=\"dataframe\">\n",
       "  <thead>\n",
       "    <tr style=\"text-align: right;\">\n",
       "      <th></th>\n",
       "      <th>LineId</th>\n",
       "      <th>Date</th>\n",
       "      <th>Time</th>\n",
       "      <th>Pid</th>\n",
       "      <th>Level</th>\n",
       "      <th>Component</th>\n",
       "      <th>Content</th>\n",
       "      <th>EventId</th>\n",
       "      <th>EventTemplate</th>\n",
       "    </tr>\n",
       "  </thead>\n",
       "  <tbody>\n",
       "    <tr>\n",
       "      <th>0</th>\n",
       "      <td>1</td>\n",
       "      <td>81109</td>\n",
       "      <td>203518</td>\n",
       "      <td>143</td>\n",
       "      <td>INFO</td>\n",
       "      <td>dfs.DataNode$DataXceiver</td>\n",
       "      <td>Receiving block blk_-1608999687919862906 src: ...</td>\n",
       "      <td>09a53393</td>\n",
       "      <td>Receiving block &lt;*&gt; src: &lt;*&gt; dest: &lt;*&gt;</td>\n",
       "    </tr>\n",
       "    <tr>\n",
       "      <th>1</th>\n",
       "      <td>2</td>\n",
       "      <td>81109</td>\n",
       "      <td>203518</td>\n",
       "      <td>35</td>\n",
       "      <td>INFO</td>\n",
       "      <td>dfs.FSNamesystem</td>\n",
       "      <td>BLOCK* NameSystem.allocateBlock: /mnt/hadoop/m...</td>\n",
       "      <td>3d91fa85</td>\n",
       "      <td>BLOCK* NameSystem.allocateBlock: &lt;*&gt; &lt;*&gt;</td>\n",
       "    </tr>\n",
       "    <tr>\n",
       "      <th>2</th>\n",
       "      <td>3</td>\n",
       "      <td>81109</td>\n",
       "      <td>203519</td>\n",
       "      <td>143</td>\n",
       "      <td>INFO</td>\n",
       "      <td>dfs.DataNode$DataXceiver</td>\n",
       "      <td>Receiving block blk_-1608999687919862906 src: ...</td>\n",
       "      <td>09a53393</td>\n",
       "      <td>Receiving block &lt;*&gt; src: &lt;*&gt; dest: &lt;*&gt;</td>\n",
       "    </tr>\n",
       "    <tr>\n",
       "      <th>3</th>\n",
       "      <td>4</td>\n",
       "      <td>81109</td>\n",
       "      <td>203519</td>\n",
       "      <td>145</td>\n",
       "      <td>INFO</td>\n",
       "      <td>dfs.DataNode$DataXceiver</td>\n",
       "      <td>Receiving block blk_-1608999687919862906 src: ...</td>\n",
       "      <td>09a53393</td>\n",
       "      <td>Receiving block &lt;*&gt; src: &lt;*&gt; dest: &lt;*&gt;</td>\n",
       "    </tr>\n",
       "    <tr>\n",
       "      <th>4</th>\n",
       "      <td>5</td>\n",
       "      <td>81109</td>\n",
       "      <td>203519</td>\n",
       "      <td>145</td>\n",
       "      <td>INFO</td>\n",
       "      <td>dfs.DataNode$PacketResponder</td>\n",
       "      <td>PacketResponder 1 for block blk_-1608999687919...</td>\n",
       "      <td>d38aa58d</td>\n",
       "      <td>PacketResponder &lt;*&gt; for block &lt;*&gt; &lt;*&gt;</td>\n",
       "    </tr>\n",
       "  </tbody>\n",
       "</table>\n",
       "</div>"
      ],
      "text/plain": [
       "   LineId   Date    Time  Pid Level                     Component  \\\n",
       "0       1  81109  203518  143  INFO      dfs.DataNode$DataXceiver   \n",
       "1       2  81109  203518   35  INFO              dfs.FSNamesystem   \n",
       "2       3  81109  203519  143  INFO      dfs.DataNode$DataXceiver   \n",
       "3       4  81109  203519  145  INFO      dfs.DataNode$DataXceiver   \n",
       "4       5  81109  203519  145  INFO  dfs.DataNode$PacketResponder   \n",
       "\n",
       "                                             Content   EventId  \\\n",
       "0  Receiving block blk_-1608999687919862906 src: ...  09a53393   \n",
       "1  BLOCK* NameSystem.allocateBlock: /mnt/hadoop/m...  3d91fa85   \n",
       "2  Receiving block blk_-1608999687919862906 src: ...  09a53393   \n",
       "3  Receiving block blk_-1608999687919862906 src: ...  09a53393   \n",
       "4  PacketResponder 1 for block blk_-1608999687919...  d38aa58d   \n",
       "\n",
       "                              EventTemplate  \n",
       "0    Receiving block <*> src: <*> dest: <*>  \n",
       "1  BLOCK* NameSystem.allocateBlock: <*> <*>  \n",
       "2    Receiving block <*> src: <*> dest: <*>  \n",
       "3    Receiving block <*> src: <*> dest: <*>  \n",
       "4     PacketResponder <*> for block <*> <*>  "
      ]
     },
     "execution_count": 4,
     "metadata": {},
     "output_type": "execute_result"
    }
   ],
   "source": [
    "df.head()"
   ]
  },
  {
   "cell_type": "markdown",
   "metadata": {},
   "source": [
    "## Encode categorical data as discrete variables"
   ]
  },
  {
   "cell_type": "code",
   "execution_count": 6,
   "metadata": {},
   "outputs": [],
   "source": [
    "from sklearn.preprocessing import LabelEncoder\n",
    "\n",
    "# columns to encode\n",
    "cols_to_encode = [\"Level\",\"Component\"]\n",
    "encoders = {}\n",
    "for col in cols_to_encode:\n",
    "    col_encoder = LabelEncoder()\n",
    "    df[col] = col_encoder.fit_transform(df[col])\n",
    "    encoders[col] = col_encoder\n",
    "    \n",
    "# take event tempplates from template file\n",
    "template_encoder = LabelEncoder()\n",
    "\n",
    "templates[\"TemplateId\"] = template_encoder.fit_transform(templates[\"EventTemplate\"])\n",
    "df[\"TemplateId\"] = template_encoder.transform(df[\"EventTemplate\"]) # apply encodin to event data\n",
    "\n",
    "encoders[\"EvenTemplate\"] = (template_encoder,\"TemplateId\")\n",
    "\n",
    "# sort template dataset by template id\n",
    "templates.sort_values(\"TemplateId\",inplace=True)\n",
    "templates.set_index(np.arange(templates.shape[0]),inplace=True)"
   ]
  },
  {
   "cell_type": "code",
   "execution_count": 7,
   "metadata": {},
   "outputs": [
    {
     "data": {
      "text/html": [
       "<div>\n",
       "<style scoped>\n",
       "    .dataframe tbody tr th:only-of-type {\n",
       "        vertical-align: middle;\n",
       "    }\n",
       "\n",
       "    .dataframe tbody tr th {\n",
       "        vertical-align: top;\n",
       "    }\n",
       "\n",
       "    .dataframe thead th {\n",
       "        text-align: right;\n",
       "    }\n",
       "</style>\n",
       "<table border=\"1\" class=\"dataframe\">\n",
       "  <thead>\n",
       "    <tr style=\"text-align: right;\">\n",
       "      <th></th>\n",
       "      <th>LineId</th>\n",
       "      <th>Date</th>\n",
       "      <th>Time</th>\n",
       "      <th>Pid</th>\n",
       "      <th>Level</th>\n",
       "      <th>Component</th>\n",
       "      <th>Content</th>\n",
       "      <th>EventId</th>\n",
       "      <th>EventTemplate</th>\n",
       "    </tr>\n",
       "  </thead>\n",
       "  <tbody>\n",
       "    <tr>\n",
       "      <th>0</th>\n",
       "      <td>1</td>\n",
       "      <td>81109</td>\n",
       "      <td>203518</td>\n",
       "      <td>143</td>\n",
       "      <td>0</td>\n",
       "      <td>4</td>\n",
       "      <td>Receiving block blk_-1608999687919862906 src: ...</td>\n",
       "      <td>09a53393</td>\n",
       "      <td>Receiving block &lt;*&gt; src: &lt;*&gt; dest: &lt;*&gt;</td>\n",
       "    </tr>\n",
       "    <tr>\n",
       "      <th>1</th>\n",
       "      <td>2</td>\n",
       "      <td>81109</td>\n",
       "      <td>203518</td>\n",
       "      <td>35</td>\n",
       "      <td>0</td>\n",
       "      <td>7</td>\n",
       "      <td>BLOCK* NameSystem.allocateBlock: /mnt/hadoop/m...</td>\n",
       "      <td>3d91fa85</td>\n",
       "      <td>BLOCK* NameSystem.allocateBlock: &lt;*&gt; &lt;*&gt;</td>\n",
       "    </tr>\n",
       "    <tr>\n",
       "      <th>2</th>\n",
       "      <td>3</td>\n",
       "      <td>81109</td>\n",
       "      <td>203519</td>\n",
       "      <td>143</td>\n",
       "      <td>0</td>\n",
       "      <td>4</td>\n",
       "      <td>Receiving block blk_-1608999687919862906 src: ...</td>\n",
       "      <td>09a53393</td>\n",
       "      <td>Receiving block &lt;*&gt; src: &lt;*&gt; dest: &lt;*&gt;</td>\n",
       "    </tr>\n",
       "    <tr>\n",
       "      <th>3</th>\n",
       "      <td>4</td>\n",
       "      <td>81109</td>\n",
       "      <td>203519</td>\n",
       "      <td>145</td>\n",
       "      <td>0</td>\n",
       "      <td>4</td>\n",
       "      <td>Receiving block blk_-1608999687919862906 src: ...</td>\n",
       "      <td>09a53393</td>\n",
       "      <td>Receiving block &lt;*&gt; src: &lt;*&gt; dest: &lt;*&gt;</td>\n",
       "    </tr>\n",
       "    <tr>\n",
       "      <th>4</th>\n",
       "      <td>5</td>\n",
       "      <td>81109</td>\n",
       "      <td>203519</td>\n",
       "      <td>145</td>\n",
       "      <td>0</td>\n",
       "      <td>5</td>\n",
       "      <td>PacketResponder 1 for block blk_-1608999687919...</td>\n",
       "      <td>d38aa58d</td>\n",
       "      <td>PacketResponder &lt;*&gt; for block &lt;*&gt; &lt;*&gt;</td>\n",
       "    </tr>\n",
       "  </tbody>\n",
       "</table>\n",
       "</div>"
      ],
      "text/plain": [
       "   LineId   Date    Time  Pid  Level  Component  \\\n",
       "0       1  81109  203518  143      0          4   \n",
       "1       2  81109  203518   35      0          7   \n",
       "2       3  81109  203519  143      0          4   \n",
       "3       4  81109  203519  145      0          4   \n",
       "4       5  81109  203519  145      0          5   \n",
       "\n",
       "                                             Content   EventId  \\\n",
       "0  Receiving block blk_-1608999687919862906 src: ...  09a53393   \n",
       "1  BLOCK* NameSystem.allocateBlock: /mnt/hadoop/m...  3d91fa85   \n",
       "2  Receiving block blk_-1608999687919862906 src: ...  09a53393   \n",
       "3  Receiving block blk_-1608999687919862906 src: ...  09a53393   \n",
       "4  PacketResponder 1 for block blk_-1608999687919...  d38aa58d   \n",
       "\n",
       "                              EventTemplate  \n",
       "0    Receiving block <*> src: <*> dest: <*>  \n",
       "1  BLOCK* NameSystem.allocateBlock: <*> <*>  \n",
       "2    Receiving block <*> src: <*> dest: <*>  \n",
       "3    Receiving block <*> src: <*> dest: <*>  \n",
       "4     PacketResponder <*> for block <*> <*>  "
      ]
     },
     "execution_count": 7,
     "metadata": {},
     "output_type": "execute_result"
    }
   ],
   "source": [
    "templates.to_hdf(\"../input/hdfs-dataset/hdfs_templates.hd5\",\"templates\",mode=\"w\")"
   ]
  },
  {
   "cell_type": "code",
   "execution_count": 10,
   "metadata": {},
   "outputs": [],
   "source": [
    "# save the encoders to disk\n",
    "import pickle\n",
    "\n",
    "# store the encoders\n",
    "with open(\"encoders.pkl\",\"wb\") as enc:\n",
    "    enc.write(pickle.dumps(encoders))"
   ]
  },
  {
   "cell_type": "markdown",
   "metadata": {},
   "source": [
    "## Ok let's start inspecting the data"
   ]
  },
  {
   "cell_type": "code",
   "execution_count": 10,
   "metadata": {},
   "outputs": [
    {
     "name": "stdout",
     "output_type": "stream",
     "text": [
      "0 <*> <*> <*> <*> java.io.IOException: Connection reset by peer\n",
      "1 <*> <*> <*> <*> java.io.InterruptedIOException: Interruped while waiting for IO on channel java.nio.channels.SocketChannel[connected <*> <*> <*> millis timeout left.\n",
      "2 <*> <*> <*> <*> java.net.SocketTimeoutException: <*> millis timeout while waiting for channel to be ready for <*> ch : java.nio.channels.SocketChannel[connected <*> <*>\n",
      "3 <*> Served block <*> to <*>\n",
      "4 <*> Starting thread to transfer block <*> to <*>\n",
      "5 <*> Starting thread to transfer block <*> to <*> <*>\n",
      "6 <*> block <*> to <*>\n",
      "7 <*> exception while serving <*> to <*>\n",
      "8 <*> to transfer <*> to <*> got java.io.IOException: Connection reset by peer\n",
      "9 <*> writing block <*> to mirror <*>\n",
      "10 Adding an already existing block <*>\n",
      "11 BLOCK* NameSystem.addStoredBlock: Redundant addStoredBlock request received for <*> on <*> size <*>\n",
      "12 BLOCK* NameSystem.addStoredBlock: addStoredBlock request received for <*> on <*> size <*> But it does not belong to any file.\n",
      "13 BLOCK* NameSystem.addStoredBlock: blockMap updated: <*> is added to <*> size <*>\n",
      "14 BLOCK* NameSystem.allocateBlock: <*> <*>\n",
      "15 BLOCK* NameSystem.delete: <*> is added to invalidSet of <*>\n",
      "16 BLOCK* Removing block <*> from neededReplications as it does not belong to any file.\n",
      "17 BLOCK* ask <*> to replicate <*> to datanode(s) <*>\n",
      "18 BLOCK* ask <*> to replicate <*> to datanode(s) <*> <*>\n",
      "19 Changing block file offset of block <*> from 0 to <*> meta file offset to <*>\n",
      "20 Deleting block <*> file <*>\n",
      "21 Exception in receiveBlock for block <*> <*>\n",
      "22 Exception in receiveBlock for block <*> java.io.IOException: Broken pipe\n",
      "23 Exception in receiveBlock for block <*> java.io.IOException: Connection reset by peer\n",
      "24 Exception in receiveBlock for block <*> java.io.InterruptedIOException: Interruped while waiting for IO on channel java.nio.channels.SocketChannel[connected <*> <*> <*> millis timeout left.\n",
      "25 Exception in receiveBlock for block <*> java.net.SocketTimeoutException: <*> millis timeout while waiting for channel to be ready for write. ch : java.nio.channels.SocketChannel[connected <*> <*>\n",
      "26 PacketResponder <*> 1 Exception java.io.IOException: The stream is closed\n",
      "27 PacketResponder <*> 1 Exception java.io.InterruptedIOException: Interruped while waiting for IO on channel java.nio.channels.SocketChannel[closed]. <*> millis timeout left.\n",
      "28 PacketResponder <*> <*> Exception <*>\n",
      "29 PacketResponder <*> <*> Exception java.io.IOException: Broken pipe\n",
      "30 PacketResponder <*> for block <*> <*>\n",
      "31 PendingReplicationMonitor timed out block <*>\n",
      "32 Received block <*> of size <*> from <*>\n",
      "33 Received block <*> src: <*> dest: <*> of size <*>\n",
      "34 Receiving block <*> src: <*> dest: <*>\n",
      "35 Receiving empty packet for block <*>\n",
      "36 Reopen Block <*>\n",
      "37 Unexpected error trying to delete block <*> BlockInfo not found in volumeMap.\n",
      "38 Verification succeeded for <*>\n",
      "39 writeBlock <*> received exception <*>\n",
      "40 writeBlock <*> received exception java.io.IOException: <*> <*>\n",
      "41 writeBlock <*> received exception java.io.IOException: Block <*> is valid, and cannot be written to.\n",
      "42 writeBlock <*> received exception java.io.IOException: Could not read from stream\n",
      "43 writeBlock blk_1684134505299265593 received exception java.net.NoRouteToHostException: No route to host\n"
     ]
    }
   ],
   "source": [
    "for tmplid, tmplexp in templates[[\"TemplateId\",\"EventTemplate\"]].values:\n",
    "    print(tmplid,tmplexp)"
   ]
  },
  {
   "cell_type": "markdown",
   "metadata": {},
   "source": [
    "## Possible issues with some of the event templates?\n",
    "\n",
    "```\n",
    "1 <*> <*> <*> <*> java.io.InterruptedIOException: Interruped while waiting for IO on channel java.nio.channels.SocketChannel[connected <*> <*> <*> millis timeout left.\n",
    "2 <*> <*> <*> <*> java.net.SocketTimeoutException: <*> millis timeout while waiting for channel to be ready for <*> ch : java.nio.channels.SocketChannel[connected <*> <*>\n",
    "\n",
    "24 Exception in receiveBlock for block <*> java.io.InterruptedIOException: Interruped while waiting for IO on channel java.nio.channels.SocketChannel[connected <*> <*> <*> millis timeout left.\n",
    "25 Exception in receiveBlock for block <*> java.net.SocketTimeoutException: <*> millis timeout while waiting for channel to be ready for write. ch : java.nio.channels.SocketChannel[connected <*> <*>\n",
    "\n",
    "26 PacketResponder <*> 1 Exception java.io.IOException: The stream is closed\n",
    "27 PacketResponder <*> 1 Exception java.io.InterruptedIOException: Interruped while waiting for IO on channel java.nio.channels.SocketChannel[closed]. <*> millis timeout left.\n",
    "28 PacketResponder <*> <*> Exception <*>\n",
    "29 PacketResponder <*> <*> Exception java.io.IOException: Broken pipe\n",
    "\n",
    "43 writeBlock blk_1684134505299265593 received exception java.net.NoRouteToHostException: No route to host\n",
    "```\n"
   ]
  },
  {
   "cell_type": "markdown",
   "metadata": {},
   "source": [
    "## Let's look at the corresponding event data"
   ]
  },
  {
   "cell_type": "code",
   "execution_count": 11,
   "metadata": {},
   "outputs": [
    {
     "ename": "NameError",
     "evalue": "name 'df' is not defined",
     "output_type": "error",
     "traceback": [
      "\u001b[0;31m---------------------------------------------------------------------------\u001b[0m",
      "\u001b[0;31mNameError\u001b[0m                                 Traceback (most recent call last)",
      "\u001b[0;32m<ipython-input-11-4a7ff49a8953>\u001b[0m in \u001b[0;36m<module>\u001b[0;34m()\u001b[0m\n\u001b[0;32m----> 1\u001b[0;31m \u001b[0mgrouped\u001b[0m \u001b[0;34m=\u001b[0m \u001b[0mdf\u001b[0m\u001b[0;34m.\u001b[0m\u001b[0mgroupby\u001b[0m\u001b[0;34m(\u001b[0m\u001b[0;34m\"TemplateId\"\u001b[0m\u001b[0;34m)\u001b[0m\u001b[0;34m\u001b[0m\u001b[0m\n\u001b[0m",
      "\u001b[0;31mNameError\u001b[0m: name 'df' is not defined"
     ]
    }
   ],
   "source": [
    "grouped = df.groupby(\"TemplateId\")"
   ]
  },
  {
   "cell_type": "code",
   "execution_count": 12,
   "metadata": {},
   "outputs": [
    {
     "ename": "NameError",
     "evalue": "name 'grouped' is not defined",
     "output_type": "error",
     "traceback": [
      "\u001b[0;31m---------------------------------------------------------------------------\u001b[0m",
      "\u001b[0;31mNameError\u001b[0m                                 Traceback (most recent call last)",
      "\u001b[0;32m<ipython-input-12-1a26a54365f5>\u001b[0m in \u001b[0;36m<module>\u001b[0;34m()\u001b[0m\n\u001b[0;32m----> 1\u001b[0;31m \u001b[0mgrouped\u001b[0m\u001b[0;34m.\u001b[0m\u001b[0mget_group\u001b[0m\u001b[0;34m(\u001b[0m\u001b[0;36m43\u001b[0m\u001b[0;34m)\u001b[0m\u001b[0;34m\u001b[0m\u001b[0m\n\u001b[0m",
      "\u001b[0;31mNameError\u001b[0m: name 'grouped' is not defined"
     ]
    }
   ],
   "source": [
    "grouped.get_group(43)"
   ]
  },
  {
   "cell_type": "markdown",
   "metadata": {},
   "source": [
    "Only one entry for template 43 `blk_...` was not detected as a template argument?"
   ]
  },
  {
   "cell_type": "code",
   "execution_count": 19,
   "metadata": {},
   "outputs": [
    {
     "data": {
      "text/plain": [
       "['Exception in receiveBlock for block blk_3858821904894294369 java.io.InterruptedIOException: Interruped while waiting for IO on channel java.nio.channels.SocketChannel[connected local=/10.250.13.188:58401 remote=/10.251.39.160:50010]. 489996 millis timeout left.',\n",
       " 'Exception in receiveBlock for block blk_-4567777441263358151 java.io.InterruptedIOException: Interruped while waiting for IO on channel java.nio.channels.SocketChannel[connected local=/10.251.199.225:50760 remote=/10.251.107.227:50010]. 489959 millis timeout left.',\n",
       " 'Exception in receiveBlock for block blk_7008279672769077211 java.io.InterruptedIOException: Interruped while waiting for IO on channel java.nio.channels.SocketChannel[connected local=/10.251.31.180:50010 remote=/10.251.123.33:33680]. 0 millis timeout left.',\n",
       " 'Exception in receiveBlock for block blk_8085135783040518166 java.io.InterruptedIOException: Interruped while waiting for IO on channel java.nio.channels.SocketChannel[connected local=/10.250.5.237:46933 remote=/10.251.107.50:50010]. 489984 millis timeout left.',\n",
       " 'Exception in receiveBlock for block blk_-4250706752040073149 java.io.InterruptedIOException: Interruped while waiting for IO on channel java.nio.channels.SocketChannel[connected local=/10.251.123.33:48836 remote=/10.251.90.239:50010]. 484996 millis timeout left.',\n",
       " 'Exception in receiveBlock for block blk_-4083716689384497698 java.io.InterruptedIOException: Interruped while waiting for IO on channel java.nio.channels.SocketChannel[connected local=/10.251.199.86:50010 remote=/10.251.30.85:60141]. 0 millis timeout left.',\n",
       " 'Exception in receiveBlock for block blk_-6994808880344424033 java.io.InterruptedIOException: Interruped while waiting for IO on channel java.nio.channels.SocketChannel[connected local=/10.250.14.196:33153 remote=/10.251.107.50:50010]. 489728 millis timeout left.',\n",
       " 'Exception in receiveBlock for block blk_-6994808880344424033 java.io.InterruptedIOException: Interruped while waiting for IO on channel java.nio.channels.SocketChannel[connected local=/10.251.67.225:50010 remote=/10.251.107.50:52905]. 0 millis timeout left.',\n",
       " 'Exception in receiveBlock for block blk_7160764053931337311 java.io.InterruptedIOException: Interruped while waiting for IO on channel java.nio.channels.SocketChannel[connected local=/10.251.66.192:50010 remote=/10.251.107.50:56423]. 0 millis timeout left.',\n",
       " 'Exception in receiveBlock for block blk_-6363674043695218814 java.io.InterruptedIOException: Interruped while waiting for IO on channel java.nio.channels.SocketChannel[connected local=/10.251.215.70:50010 remote=/10.251.107.50:41833]. 0 millis timeout left.',\n",
       " 'Exception in receiveBlock for block blk_-4723951162006187997 java.io.InterruptedIOException: Interruped while waiting for IO on channel java.nio.channels.SocketChannel[connected local=/10.251.107.50:50010 remote=/10.251.107.98:46828]. 0 millis timeout left.',\n",
       " 'Exception in receiveBlock for block blk_8895996987918469659 java.io.InterruptedIOException: Interruped while waiting for IO on channel java.nio.channels.SocketChannel[connected local=/10.251.107.50:47628 remote=/10.251.31.242:50010]. 484981 millis timeout left.',\n",
       " 'Exception in receiveBlock for block blk_8006271611835981128 java.io.InterruptedIOException: Interruped while waiting for IO on channel java.nio.channels.SocketChannel[connected local=/10.251.71.97:50010 remote=/10.251.107.50:42428]. 0 millis timeout left.',\n",
       " 'Exception in receiveBlock for block blk_-2448583810301041956 java.io.InterruptedIOException: Interruped while waiting for IO on channel java.nio.channels.SocketChannel[connected local=/10.251.107.50:54361 remote=/10.251.67.211:50010]. 484962 millis timeout left.',\n",
       " 'Exception in receiveBlock for block blk_2832388045942608634 java.io.InterruptedIOException: Interruped while waiting for IO on channel java.nio.channels.SocketChannel[connected local=/10.251.107.50:56617 remote=/10.251.106.37:50010]. 484989 millis timeout left.',\n",
       " 'Exception in receiveBlock for block blk_-644449815674781039 java.io.InterruptedIOException: Interruped while waiting for IO on channel java.nio.channels.SocketChannel[connected local=/10.251.107.50:50010 remote=/10.251.215.50:37163]. 0 millis timeout left.']"
      ]
     },
     "execution_count": 19,
     "metadata": {},
     "output_type": "execute_result"
    }
   ],
   "source": [
    "grouped.get_group(24)[\"Content\"].values.tolist()"
   ]
  },
  {
   "cell_type": "code",
   "execution_count": 20,
   "metadata": {},
   "outputs": [
    {
     "data": {
      "text/plain": [
       "['Exception in receiveBlock for block blk_7008279672769077211 java.net.SocketTimeoutException: 490000 millis timeout while waiting for channel to be ready for write. ch : java.nio.channels.SocketChannel[connected local=/10.251.42.191:43873 remote=/10.251.123.33:50010]',\n",
       " 'Exception in receiveBlock for block blk_6224343649004202692 java.net.SocketTimeoutException: 490000 millis timeout while waiting for channel to be ready for write. ch : java.nio.channels.SocketChannel[connected local=/10.251.127.243:44092 remote=/10.251.107.50:50010]',\n",
       " 'Exception in receiveBlock for block blk_-6363674043695218814 java.net.SocketTimeoutException: 490000 millis timeout while waiting for channel to be ready for write. ch : java.nio.channels.SocketChannel[connected local=/10.250.15.101:33683 remote=/10.251.107.50:50010]',\n",
       " 'Exception in receiveBlock for block blk_584730932939516842 java.net.SocketTimeoutException: 485000 millis timeout while waiting for channel to be ready for write. ch : java.nio.channels.SocketChannel[connected local=/10.250.19.227:55473 remote=/10.251.107.50:50010]',\n",
       " 'Exception in receiveBlock for block blk_7169347067596634974 java.net.SocketTimeoutException: 490000 millis timeout while waiting for channel to be ready for write. ch : java.nio.channels.SocketChannel[connected local=/10.251.71.97:45976 remote=/10.251.107.50:50010]']"
      ]
     },
     "execution_count": 20,
     "metadata": {},
     "output_type": "execute_result"
    }
   ],
   "source": [
    "grouped.get_group(25)[\"Content\"].values.tolist()"
   ]
  },
  {
   "cell_type": "markdown",
   "metadata": {},
   "source": [
    "### Fix 24 as\n",
    "\n",
    "``\n",
    "Exception in receiveBlock for block <*> java.io.InterruptedIOException: Interruped while waiting for IO on channel java.nio.channels.SocketChannel[connected <*> <*> <*> millis timeout left.\n",
    "``\n",
    "\n",
    "``\n",
    "Exception in receiveBlock for block <*> java.io.InterruptedIOException: Interruped while waiting for IO on channel java.nio.channels.SocketChannel[connected <*> <*> <*>]. millis timeout left.\n",
    "``\n",
    "\n",
    "And similarly for 25\n"
   ]
  },
  {
   "cell_type": "code",
   "execution_count": 21,
   "metadata": {},
   "outputs": [
    {
     "data": {
      "text/plain": [
       "['PacketResponder blk_8006271611835981128 1 Exception java.io.IOException: The stream is closed',\n",
       " 'PacketResponder blk_-2448583810301041956 1 Exception java.io.IOException: The stream is closed']"
      ]
     },
     "execution_count": 21,
     "metadata": {},
     "output_type": "execute_result"
    }
   ],
   "source": [
    "grouped.get_group(26)[\"Content\"].values.tolist()"
   ]
  },
  {
   "cell_type": "code",
   "execution_count": 22,
   "metadata": {},
   "outputs": [
    {
     "data": {
      "text/plain": [
       "['PacketResponder blk_-4250706752040073149 1 Exception java.io.InterruptedIOException: Interruped while waiting for IO on channel java.nio.channels.SocketChannel[closed]. 59985 millis timeout left.',\n",
       " 'PacketResponder blk_-4723951162006187997 1 Exception java.io.InterruptedIOException: Interruped while waiting for IO on channel java.nio.channels.SocketChannel[closed]. 59799 millis timeout left.',\n",
       " 'PacketResponder blk_8895996987918469659 1 Exception java.io.InterruptedIOException: Interruped while waiting for IO on channel java.nio.channels.SocketChannel[closed]. 59852 millis timeout left.',\n",
       " 'PacketResponder blk_2832388045942608634 1 Exception java.io.InterruptedIOException: Interruped while waiting for IO on channel java.nio.channels.SocketChannel[closed]. 59990 millis timeout left.',\n",
       " 'PacketResponder blk_-644449815674781039 1 Exception java.io.InterruptedIOException: Interruped while waiting for IO on channel java.nio.channels.SocketChannel[closed]. 59983 millis timeout left.']"
      ]
     },
     "execution_count": 22,
     "metadata": {},
     "output_type": "execute_result"
    }
   ],
   "source": [
    "grouped.get_group(27)[\"Content\"].values.tolist()"
   ]
  },
  {
   "cell_type": "markdown",
   "metadata": {},
   "source": [
    "### Guess that 1 was not detected as a template argument"
   ]
  },
  {
   "cell_type": "code",
   "execution_count": 23,
   "metadata": {},
   "outputs": [
    {
     "data": {
      "text/plain": [
       "['PacketResponder blk_-3102267849859399193 2 Exception java.io.EOFException',\n",
       " 'PacketResponder blk_1528078116812077719 2 Exception java.io.EOFException',\n",
       " 'PacketResponder blk_8085135783040518166 1 Exception java.nio.channels.ClosedByInterruptException',\n",
       " 'PacketResponder blk_8516616325149469651 1 Exception java.nio.channels.ClosedByInterruptException',\n",
       " 'PacketResponder blk_-3794935441407979230 2 Exception java.io.EOFException',\n",
       " 'PacketResponder blk_-516029862489211143 2 Exception java.io.EOFException',\n",
       " 'PacketResponder blk_844104329351281298 2 Exception java.io.EOFException',\n",
       " 'PacketResponder blk_9099447004863711723 1 Exception java.nio.channels.ClosedByInterruptException',\n",
       " 'PacketResponder blk_-6680054068554267213 2 Exception java.io.EOFException',\n",
       " 'PacketResponder blk_6495484866542253279 1 Exception java.nio.channels.ClosedByInterruptException',\n",
       " 'PacketResponder blk_-539148231797001003 2 Exception java.io.EOFException',\n",
       " 'PacketResponder blk_3709643589615046481 2 Exception java.io.EOFException',\n",
       " 'PacketResponder blk_864182586941622279 2 Exception java.io.EOFException',\n",
       " 'PacketResponder blk_-8385698642848275576 2 Exception java.io.EOFException',\n",
       " 'PacketResponder blk_7343037410013445519 2 Exception java.io.EOFException',\n",
       " 'PacketResponder blk_-5614567843175962830 2 Exception java.io.EOFException',\n",
       " 'PacketResponder blk_4989727389302910967 2 Exception java.io.EOFException',\n",
       " 'PacketResponder blk_-4454152657041744301 2 Exception java.io.EOFException',\n",
       " 'PacketResponder blk_-7228834955740084829 2 Exception java.io.EOFException',\n",
       " 'PacketResponder blk_-2308563252795628677 2 Exception java.io.EOFException',\n",
       " 'PacketResponder blk_120486571976949188 1 Exception java.nio.channels.ClosedByInterruptException',\n",
       " 'PacketResponder blk_-604967703652531741 2 Exception java.io.EOFException',\n",
       " 'PacketResponder blk_4208719212388950902 1 Exception java.nio.channels.ClosedByInterruptException',\n",
       " 'PacketResponder blk_-2850385690817741700 1 Exception java.nio.channels.ClosedByInterruptException',\n",
       " 'PacketResponder blk_7160764053931337311 2 Exception java.io.EOFException',\n",
       " 'PacketResponder blk_377785190538046925 0 Exception java.nio.channels.ClosedByInterruptException',\n",
       " 'PacketResponder blk_8895996987918469659 2 Exception java.nio.channels.ClosedByInterruptException',\n",
       " 'PacketResponder blk_-2448583810301041956 2 Exception java.nio.channels.ClosedByInterruptException',\n",
       " 'PacketResponder blk_-2667098508999319871 2 Exception java.io.EOFException']"
      ]
     },
     "execution_count": 23,
     "metadata": {},
     "output_type": "execute_result"
    }
   ],
   "source": [
    "grouped.get_group(28)[\"Content\"].values.tolist()"
   ]
  },
  {
   "cell_type": "code",
   "execution_count": 24,
   "metadata": {},
   "outputs": [
    {
     "data": {
      "text/plain": [
       "['PacketResponder blk_3858821904894294369 0 Exception java.io.IOException: Broken pipe',\n",
       " 'PacketResponder blk_-4567777441263358151 0 Exception java.io.IOException: Broken pipe',\n",
       " 'PacketResponder blk_8085135783040518166 0 Exception java.io.IOException: Broken pipe',\n",
       " 'PacketResponder blk_8516616325149469651 2 Exception java.io.IOException: Broken pipe',\n",
       " 'PacketResponder blk_-7052911997539087826 2 Exception java.io.IOException: Broken pipe',\n",
       " 'PacketResponder blk_9160796703302881264 2 Exception java.io.IOException: Broken pipe']"
      ]
     },
     "execution_count": 24,
     "metadata": {},
     "output_type": "execute_result"
    }
   ],
   "source": [
    "grouped.get_group(29)[\"Content\"].values.tolist()"
   ]
  },
  {
   "cell_type": "markdown",
   "metadata": {},
   "source": [
    "### Should 29 be split in two?"
   ]
  },
  {
   "cell_type": "markdown",
   "metadata": {},
   "source": [
    "## Fix issues with 26, 27 and 42"
   ]
  },
  {
   "cell_type": "code",
   "execution_count": 13,
   "metadata": {},
   "outputs": [
    {
     "name": "stderr",
     "output_type": "stream",
     "text": [
      "/home/musella/anaconda3/lib/python3.6/site-packages/pandas/core/indexing.py:194: SettingWithCopyWarning: \n",
      "A value is trying to be set on a copy of a slice from a DataFrame\n",
      "\n",
      "See the caveats in the documentation: http://pandas.pydata.org/pandas-docs/stable/indexing.html#indexing-view-versus-copy\n",
      "  self._setitem_with_indexer(indexer, value)\n"
     ]
    }
   ],
   "source": [
    "templates[\"EventTemplate\"].iloc[[26,27]] = templates[\"EventTemplate\"].iloc[[26,27]].apply(lambda x: x.replace(\"<*> 1\",\"<*> <*>\"))\n",
    "templates[\"EventTemplate\"].iloc[43] = templates[\"EventTemplate\"].iloc[43].replace(\"blk_1684134505299265593\",\"<*>\")\n"
   ]
  },
  {
   "cell_type": "code",
   "execution_count": 14,
   "metadata": {},
   "outputs": [
    {
     "data": {
      "text/plain": [
       "['PacketResponder <*> <*> Exception java.io.IOException: The stream is closed',\n",
       " 'PacketResponder <*> <*> Exception java.io.InterruptedIOException: Interruped while waiting for IO on channel java.nio.channels.SocketChannel[closed]. <*> millis timeout left.',\n",
       " 'writeBlock <*> received exception java.net.NoRouteToHostException: No route to host']"
      ]
     },
     "execution_count": 14,
     "metadata": {},
     "output_type": "execute_result"
    }
   ],
   "source": [
    "templates.iloc[[26,27,43]][\"EventTemplate\"].tolist()"
   ]
  },
  {
   "cell_type": "code",
   "execution_count": 15,
   "metadata": {},
   "outputs": [],
   "source": [
    "templates.to_hdf(\"../input/hdfs-dataset/hdfs_templates.hd5\",\"templates\",mode=\"w\")"
   ]
  },
  {
   "cell_type": "markdown",
   "metadata": {},
   "source": [
    "## Extract template arguments for each line"
   ]
  },
  {
   "cell_type": "code",
   "execution_count": 27,
   "metadata": {},
   "outputs": [],
   "source": [
    "import re\n",
    "\n",
    "# make regular expression to extract template arguments from event content\n",
    "def make_regex(tmpl):\n",
    "    escape = \"[]()*\"\n",
    "    for ch in escape:\n",
    "        tmpl = tmpl.replace(ch,\"\\\\\"+ch)\n",
    "\n",
    "    match_entity = r\"([^ ]*)\"\n",
    "    tmpl = tmpl.replace(\"<\\\\*>\",match_entity)\n",
    "    \n",
    "    return re.compile(tmpl)\n",
    "\n",
    "regexps = templates[\"EventTemplate\"].apply(make_regex)\n"
   ]
  },
  {
   "cell_type": "code",
   "execution_count": 28,
   "metadata": {},
   "outputs": [],
   "source": [
    "# apply regex to event data\n",
    "def apply_regex(x):\n",
    "    match = regexps.iloc[x[\"TemplateId\"]].match(x[\"Content\"])\n",
    "    if match is None:\n",
    "        # print(regexps.iloc[x[0]],x[1])\n",
    "        return None\n",
    "    return \":::\".join(match.groups())\n",
    "\n",
    "df[\"TemplateArgs\"] = df[['TemplateId','Content']].apply(apply_regex,raw=False,axis=1)"
   ]
  },
  {
   "cell_type": "markdown",
   "metadata": {},
   "source": [
    "## Add time index"
   ]
  },
  {
   "cell_type": "code",
   "execution_count": null,
   "metadata": {},
   "outputs": [],
   "source": [
    "hours = df.Time // 10000\n",
    "mins = ( df.Time % 10000 ) // 100\n",
    "secs = ( df.Time % 10000 ) % 100\n",
    "\n",
    "year = 2000 + (df.Date // 10000)\n",
    "month = (df.Date % 10000) // 100\n",
    "day = (df.Date % 10000) % 100\n",
    "\n",
    "dfdate = pd.DataFrame({'year': year,\n",
    "                       'month': month,\n",
    "                       'day': day,\n",
    "                       'hours': hours,\n",
    "                       'minutes':mins,\n",
    "                       'seconds':secs\n",
    "                      })\n",
    "\n",
    "df = df.join(dfdate)\n",
    "\n",
    "df.index = pd.to_datetime(dfdate)"
   ]
  },
  {
   "cell_type": "code",
   "execution_count": 31,
   "metadata": {},
   "outputs": [],
   "source": [
    "df[[\"LineId\",\"Pid\",\"Level\",\"Component\",\"TemplateId\",\"TemplateArgs\"]+dfdate.columns.tolist()].to_hdf(\"../input/hdfs-dataset/hdfs_structured_datetime.hd5\",\"hdfs_structured\",mode=\"w\",format=\"t\")"
   ]
  },
  {
   "cell_type": "code",
   "execution_count": null,
   "metadata": {},
   "outputs": [],
   "source": []
  }
 ],
 "metadata": {
  "kernelspec": {
   "display_name": "Python 3",
   "language": "python",
   "name": "python3"
  },
  "language_info": {
   "codemirror_mode": {
    "name": "ipython",
    "version": 3
   },
   "file_extension": ".py",
   "mimetype": "text/x-python",
   "name": "python",
   "nbconvert_exporter": "python",
   "pygments_lexer": "ipython3",
   "version": "3.6.4"
  }
 },
 "nbformat": 4,
 "nbformat_minor": 2
}
